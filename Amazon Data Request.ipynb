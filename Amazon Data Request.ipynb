{
 "cells": [
  {
   "cell_type": "markdown",
   "metadata": {},
   "source": [
    "# Initialize Environment"
   ]
  },
  {
   "cell_type": "markdown",
   "metadata": {},
   "source": [
    "### Compatibility notes"
   ]
  },
  {
   "cell_type": "markdown",
   "metadata": {},
   "source": [
    "The following code is only compatible with a python 3.4 kernel and the notebook must be opened with ipython 3.0+."
   ]
  },
  {
   "cell_type": "code",
   "execution_count": null,
   "metadata": {
    "collapsed": true
   },
   "outputs": [],
   "source": [
    "from pdb import set_trace as debug\n",
    "from pandas.io.parsers import read_csv\n",
    "import pandas\n",
    "from IPython.parallel import Client,require\n",
    "from collections import Counter"
   ]
  },
  {
   "cell_type": "code",
   "execution_count": null,
   "metadata": {
    "collapsed": true
   },
   "outputs": [],
   "source": [
    "import datetime\n",
    "import re\n",
    "import csv\n",
    "import gzip\n",
    "import ujson"
   ]
  },
  {
   "cell_type": "code",
   "execution_count": null,
   "metadata": {
    "collapsed": true
   },
   "outputs": [],
   "source": [
    "#--> RAW_FILE_DIR with the directory that contains google_play__main.json.gz\n",
    "#--> OUT_DIR with the directory of where you want the processed files to go\n",
    "#--> DEBUG whether to print out created CSV files or not\n",
    "#--> COMPRESS_LEVEL gzip compression level. warning: severely impacts runtime.\n",
    "#--> LINE_LIMIT how many lines to iterate through in the raw file. For debugging.\n",
    "DUMP_DATE = '2015_02_26_23_12'\n",
    "RAW_FILE_DIR = '/home/cgaray/data'\n",
    "OUT_DIR = '/home/cgaray/data/out'\n",
    "DEBUG = 1\n",
    "COMPRESS_LEVEL = 9\n",
    "LINE_LIMIT = 1000\n",
    "PARALLEL = 1\n",
    "PIGZ = 1\n",
    "OBS_SKIP = 100\n",
    "OBS_PRINT = 5"
   ]
  },
  {
   "cell_type": "code",
   "execution_count": null,
   "metadata": {
    "collapsed": true
   },
   "outputs": [],
   "source": [
    "# Don't change these!\n",
    "RAW_FILE = '{}/amazon__main.json.gz'.format(RAW_FILE_DIR)\n",
    "OUT_BASE = OUT_DIR+'/{}__amazon__main__'+DUMP_DATE+'.csv.gz'"
   ]
  },
  {
   "cell_type": "code",
   "execution_count": null,
   "metadata": {
    "collapsed": true
   },
   "outputs": [],
   "source": [
    "if PIGZ:\n",
    "    @require(gzip)\n",
    "    def iter_json_gzip(filename,LINE_LIMIT=LINE_LIMIT):\n",
    "        return gzip.iter_json_gzip(filename,LINE_LIMIT=LINE_LIMIT)    \n",
    "else:\n",
    "    @require(gzip,ujson)\n",
    "    def iter_json_gzip(filename,LINE_LIMIT=LINE_LIMIT):\n",
    "        with gzip.open(filename,'rt') as file_iter:\n",
    "            for c,line in enumerate(file_iter):\n",
    "                if c > LINE_LIMIT and LINE_LIMIT>0:\n",
    "                    break\n",
    "                if isinstance(line,str):\n",
    "                    if len(line)>0:        \n",
    "                        out = ujson.loads(line)\n",
    "                        if isinstance(out,dict):\n",
    "                            if 'app_id' in out and 'timestamp' in out:\n",
    "                                yield out"
   ]
  },
  {
   "cell_type": "markdown",
   "metadata": {},
   "source": [
    "# Print Sample Observations"
   ]
  },
  {
   "cell_type": "code",
   "execution_count": null,
   "metadata": {
    "collapsed": true
   },
   "outputs": [],
   "source": [
    "try:\n",
    "    from sh import zcat,head,tail\n",
    "    print(tail(head(zcat(RAW_FILE_NEWDATA, _piped =True),\n",
    "                    \"-n{}\".format(OBS_SKIP)\n",
    "                   ),\"-n{}\".format(OBS_PRINT)))\n",
    "except:\n",
    "    pass"
   ]
  },
  {
   "cell_type": "markdown",
   "metadata": {},
   "source": [
    "# Initialize Parallel Computing"
   ]
  },
  {
   "cell_type": "code",
   "execution_count": null,
   "metadata": {
    "collapsed": true
   },
   "outputs": [],
   "source": [
    "# Configured for: equity\n",
    "if PARALLEL:\n",
    "    ipython_parallel = Client()\n",
    "    print(\"{} active computing engines\".format(len(ipython_parallel.ids)))\n",
    "\n",
    "    lbv = ipython_parallel.load_balanced_view()\n",
    "\n",
    "    map = lambda f,itertable:lbv.map(f,itertable,\\\n",
    "    block =False,\\\n",
    "    ordered =False)\n",
    "\n",
    "    @require('socket')\n",
    "    def host(dummy):\n",
    "        return socket.gethostname()\n",
    "\n",
    "    nodes = list(lbv.map(host,ipython_parallel.ids))\n",
    "    nodes = [int(x.split('equity')[1].split(\".\")[0]) for x in nodes]\n",
    "    nodes = nodes\n",
    "\n",
    "    print(sorted(list(Counter(nodes).items())))"
   ]
  },
  {
   "cell_type": "markdown",
   "metadata": {},
   "source": [
    "# Run them all!"
   ]
  },
  {
   "cell_type": "code",
   "execution_count": null,
   "metadata": {
    "collapsed": true
   },
   "outputs": [],
   "source": [
    "print(\"starting processing Amazon Data Request\")"
   ]
  },
  {
   "cell_type": "code",
   "execution_count": null,
   "metadata": {
    "collapsed": true
   },
   "outputs": [],
   "source": [
    "specific_tables = \"\"\"\n",
    "\"\"\".split()\n",
    "\n",
    "all_tables = [x for x in globals() \n",
    "              if callable(globals()[x]) \n",
    "              and x.isupper()]\n",
    "all_tables"
   ]
  },
  {
   "cell_type": "code",
   "execution_count": null,
   "metadata": {
    "collapsed": true
   },
   "outputs": [],
   "source": [
    "def run_function(f,RAW_FILE=RAW_FILE,OUT_BASE=OUT_BASE,COMPRESS_LEVEL=COMPRESS_LEVEL):\n",
    "    return f(RAW_FILE ,OUT_BASE,COMPRESS_LEVEL)\n",
    "\n",
    "for i,file in enumerate(map(run_function,[globals()[x] for x in all_tables])):\n",
    "    print(i+1,file)"
   ]
  },
  {
   "cell_type": "code",
   "execution_count": null,
   "metadata": {
    "collapsed": true
   },
   "outputs": [],
   "source": [
    "print(\"DONE\")"
   ]
  }
 ],
 "metadata": {
  "kernelspec": {
   "display_name": "Python 3",
   "language": "python",
   "name": "python3"
  },
  "language_info": {
   "codemirror_mode": {
    "name": "ipython",
    "version": 3
   },
   "file_extension": ".py",
   "mimetype": "text/x-python",
   "name": "python",
   "nbconvert_exporter": "python",
   "pygments_lexer": "ipython3",
   "version": "3.4.1"
  }
 },
 "nbformat": 4,
 "nbformat_minor": 0
}

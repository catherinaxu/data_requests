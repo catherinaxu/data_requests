{
 "metadata": {
  "name": "",
  "signature": "sha256:c6dfe802f5bdd22f7ded9d49e63d77fc203222bc9d1608456a42a7741abc0d46"
 },
 "nbformat": 3,
 "nbformat_minor": 0,
 "worksheets": [
  {
   "cells": [
    {
     "cell_type": "code",
     "collapsed": false,
     "input": [
      "import ujson\n",
      "import datetime\n",
      "import re\n",
      "import gzip\n",
      "from lxml import html\n",
      "from pandas.io.parsers import read_csv"
     ],
     "language": "python",
     "metadata": {},
     "outputs": [],
     "prompt_number": 1
    },
    {
     "cell_type": "code",
     "collapsed": false,
     "input": [
      "#--> RAW_FILE_DIR with the directory that contains google_play__main.json.gz\n",
      "#--> OUT_DIR with the directory of where you want the processed files to go\n",
      "#--> DEBUG whether to print out created CSV files or not\n",
      "#--> COMPRESS_LEVEL gzip compression level. warning: severely impacts runtime.\n",
      "#--> LINE_LIMIT how many lines to iterate through in the raw file. For debugging.\n",
      "DUMP_DATE = '2015_03_07_23_12'\n",
      "RAW_FILE_DIR = '/data'\n",
      "OUT_DIR = '/data/out'\n",
      "DEBUG = 1\n",
      "COMPRESS_LEVEL = 1\n",
      "LINE_LIMIT = float(\"inf\")"
     ],
     "language": "python",
     "metadata": {},
     "outputs": [],
     "prompt_number": 2
    },
    {
     "cell_type": "code",
     "collapsed": false,
     "input": [
      "# Don't change these!\n",
      "RAW_FILE_IPHONE = '{}/test_appannie__iphone.json.gz'.format(RAW_FILE_DIR)\n",
      "RAW_FILE_IPAD = '{}/test_appannie__ipad.json.gz'.format(RAW_FILE_DIR)\n",
      "RAW_FILE_GOOGLE = '{}/test_appannie__google.json.gz'.format(RAW_FILE_DIR)\n",
      "OUT_IPHONE = OUT_DIR+'/appannie__iphone__rankings__'+DUMP_DATE+'.csv.gz'\n",
      "OUT_IPAD = OUT_DIR+'/appannie__ipad__rankings__'+DUMP_DATE+'.csv.gz'\n",
      "OUT_GOOGLE = OUT_DIR+'appannie__google__rankings__'+DUMP_DATE+'csv.gz'"
     ],
     "language": "python",
     "metadata": {},
     "outputs": [],
     "prompt_number": 3
    },
    {
     "cell_type": "code",
     "collapsed": false,
     "input": [
      "def iter_json_gzip(filename):\n",
      "    with gzip.open(filename,'rt') as file_iter:\n",
      "        c = 0\n",
      "        for line in file_iter:\n",
      "            c +=1\n",
      "            if c > LINE_LIMIT:\n",
      "                break\n",
      "            yield ujson.loads(line)"
     ],
     "language": "python",
     "metadata": {},
     "outputs": [],
     "prompt_number": 4
    },
    {
     "cell_type": "markdown",
     "metadata": {},
     "source": [
      "# RANKPARSER_IOS"
     ]
    },
    {
     "cell_type": "code",
     "collapsed": false,
     "input": [
      "def RANKPARSER_IOS(file_in,out_filename,compress=1):\n",
      "    headers = ['app_id', 'chart', 'date', 'country', 'rank']\n",
      "    with gzip.open(out_filename,'wt',compress) as out_file:\n",
      "        out_file.write(\",\".join(headers)+\"\\n\")\n",
      "        for json in iter_json_gzip(file_in):\n",
      "            tree = html.fromstring(json['html'])\n",
      "            category = tree.xpath(\"//div[@data-name='category']//a[@class='current']\").text_content()\n",
      "            app_ids = tree.xpath(\"//span[@style='display:none']\")\n",
      "            i = 0\n",
      "            chart = ['free', 'paid', 'grossing']\n",
      "            for app in app_ids:\n",
      "                app_info = [app.text_content(), chart[i%3], app[date], 'United States', ((i/3)+1)]\n",
      "                out_file.write(\",\".join(app_info)+'\\n')\n",
      "                i += 1"
     ],
     "language": "python",
     "metadata": {},
     "outputs": [],
     "prompt_number": 5
    },
    {
     "cell_type": "markdown",
     "metadata": {},
     "source": [
      "# RANKPARSER_GOOGLE"
     ]
    },
    {
     "cell_type": "code",
     "collapsed": false,
     "input": [
      "def RANKPARSER_GOOGLE(file_in,out_filename,compress=1):\n",
      "    headers = ['app_id', 'chart', 'date', 'country', 'rank']\n",
      "    with gzip.open(out_filename,'wt',compress) as out_file:\n",
      "        out_file.write(\",\".join(headers)+\"\\n\")\n",
      "        for json in iter_json_gzip(file_in):\n",
      "            tree = html.fromstring(json['html'])\n",
      "            category = tree.xpath(\"//div[@data-name='category']//a[@class='current']\").text_content()\n",
      "            app_ids = tree.xpath(\"//span[@style='display:none']\")\n",
      "            i = 0\n",
      "            chart = ['free', 'paid', 'grossing', 'new_free', 'new_paid']\n",
      "            for app in app_ids:\n",
      "                app_info = [app.text_content(), chart[i%5], app[date], 'United States', ((i/5)+1)]\n",
      "                out_file.write(\",\".join(app_info)+'\\n')\n",
      "                i += 1"
     ],
     "language": "python",
     "metadata": {},
     "outputs": [],
     "prompt_number": 6
    },
    {
     "cell_type": "markdown",
     "metadata": {},
     "source": [
      "#Run android, ipad, and iphone"
     ]
    },
    {
     "cell_type": "code",
     "collapsed": false,
     "input": [
      "def run_parser():\n",
      "    RANKPARSER_IOS(RAW_FILE_IPHONE, OUT_IPHONE)\n",
      "    RANKPARSER_IOS(RAW_FILE_IPAD, OUT_IPAD)\n",
      "    RANKPARSER_GOOGLE(RAW_FILE_ANDROID, OUT_ANDROID)"
     ],
     "language": "python",
     "metadata": {},
     "outputs": [],
     "prompt_number": 7
    }
   ],
   "metadata": {}
  }
 ]
}
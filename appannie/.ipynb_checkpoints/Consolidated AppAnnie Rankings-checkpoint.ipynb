{
 "cells": [
  {
   "cell_type": "code",
   "execution_count": 1,
   "metadata": {
    "collapsed": false
   },
   "outputs": [],
   "source": [
    "import ujson\n",
    "import datetime\n",
    "import re\n",
    "import gzip\n",
    "from lxml import html\n",
    "from pandas.io.parsers import read_csv"
   ]
  },
  {
   "cell_type": "code",
   "execution_count": 2,
   "metadata": {
    "collapsed": false
   },
   "outputs": [],
   "source": [
    "#--> RAW_FILE_DIR with the directory that contains google_play__main.json.gz\n",
    "#--> OUT_DIR with the directory of where you want the processed files to go\n",
    "#--> DEBUG whether to print out created CSV files or not\n",
    "#--> COMPRESS_LEVEL gzip compression level. warning: severely impacts runtime.\n",
    "#--> LINE_LIMIT how many lines to iterate through in the raw file. For debugging.\n",
    "DUMP_DATE = '2015_03_02_23_12'\n",
    "RAW_FILE_DIR = '/mig/requests/consolidated_appannie_rankings/raw_data'\n",
    "OUT_DIR = '/mig/requests/consolidated_appannie_rankings/processed_data'\n",
    "DEBUG = 1\n",
    "COMPRESS_LEVEL = 1\n",
    "LINE_LIMIT = 10000"
   ]
  },
  {
   "cell_type": "code",
   "execution_count": 3,
   "metadata": {
    "collapsed": false
   },
   "outputs": [],
   "source": [
    "# Don't change these!\n",
    "RAW_FILE_IPHONE = '{}/test_appannie__iphone.json.gzip'.format(RAW_FILE_DIR)\n",
    "RAW_FILE_IPAD = '{}/test_appannie__ipad.json.gzip'.format(RAW_FILE_DIR)\n",
    "OUT_BASE_IPHONE = OUT_DIR+'/appannie__iphone__rankings__'+DUMP_DATE+'.csv.gz'\n",
    "OUT_BASE_IPAD = OUT_DIR+'/appannie__ipad__rankings__'+DUMP_DATE+'.csv.gz'"
   ]
  },
  {
   "cell_type": "code",
   "execution_count": 4,
   "metadata": {
    "collapsed": false
   },
   "outputs": [],
   "source": [
    "def iter_json_gzip(filename):\n",
    "    with gzip.open(filename,'rt') as file_iter:\n",
    "        c = 0\n",
    "        for line in file_iter:\n",
    "            c +=1\n",
    "            if c > LINE_LIMIT:\n",
    "                break\n",
    "            yield ujson.loads(line)"
   ]
  },
  {
   "cell_type": "code",
   "execution_count": 5,
   "metadata": {
    "collapsed": false
   },
   "outputs": [],
   "source": [
    "def RANKPARSER(file_in,out_filename,compress=1):\n",
    "    headers = ['app_id', 'category', 'country', 'day', 'month', 'rank', 'year']\n",
    "    with gzip.open(out_filename,'wt',compress) as out_file:\n",
    "        out_file.write(\",\".join(headers)+\"\\n\")\n",
    "        for json in iter_json_gzip(file_in):\n",
    "            d = datetime.datetime.strptime(app['date'], '%Y-%m-%d')\n",
    "            tree = html.fromstring(app['html'])\n",
    "            category = tree.xpath(\"//div[@data-name='category']//a[@class='current']\").text_content()\n",
    "            app_ids = tree.xpath(\"//span[@style='display:none']\")\n",
    "            i = 0\n",
    "            for app in app_ids:\n",
    "                app_info = [app.text_content(), category, 'United States', d.day, d.month, ((i/3)+1), d.year]\n",
    "                out_file.write(\",\".join(app_info)+'\\n')\n",
    "                i += 1"
   ]
  },
  {
   "cell_type": "code",
   "execution_count": null,
   "metadata": {
    "collapsed": false
   },
   "outputs": [],
   "source": []
  }
 ],
 "metadata": {
  "kernelspec": {
   "display_name": "Python 2",
   "language": "python",
   "name": "python2"
  },
  "language_info": {
   "codemirror_mode": {
    "name": "ipython",
    "version": 2
   },
   "file_extension": ".py",
   "mimetype": "text/x-python",
   "name": "python",
   "nbconvert_exporter": "python",
   "pygments_lexer": "ipython2",
   "version": "2.7.9"
  }
 },
 "nbformat": 4,
 "nbformat_minor": 0
}

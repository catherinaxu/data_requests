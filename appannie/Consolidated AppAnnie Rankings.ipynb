{
 "metadata": {
  "name": "",
  "signature": "sha256:4e577eb66d3d73540c43174b69a1db52efcd0bca36c9f18be80e47c346dd756d"
 },
 "nbformat": 3,
 "nbformat_minor": 0,
 "worksheets": [
  {
   "cells": [
    {
     "cell_type": "code",
     "collapsed": false,
     "input": [
      "import ujson\n",
      "import datetime\n",
      "import re\n",
      "import gzip\n",
      "from lxml import html\n",
      "from pandas.io.parsers import read_csv"
     ],
     "language": "python",
     "metadata": {},
     "outputs": [],
     "prompt_number": 1
    },
    {
     "cell_type": "code",
     "collapsed": false,
     "input": [
      "#--> RAW_FILE_DIR with the directory that contains google_play__main.json.gz\n",
      "#--> OUT_DIR with the directory of where you want the processed files to go\n",
      "#--> DEBUG whether to print out created CSV files or not\n",
      "#--> COMPRESS_LEVEL gzip compression level. warning: severely impacts runtime.\n",
      "#--> LINE_LIMIT how many lines to iterate through in the raw file. For debugging.\n",
      "DUMP_DATE = '2015_03_07_23_12'\n",
      "RAW_FILE_DIR = '/data'\n",
      "OUT_DIR = '/data/out'\n",
      "DEBUG = 1\n",
      "COMPRESS_LEVEL = 1\n",
      "LINE_LIMIT = float(\"inf\")"
     ],
     "language": "python",
     "metadata": {},
     "outputs": [],
     "prompt_number": 2
    },
    {
     "cell_type": "code",
     "collapsed": false,
     "input": [
      "# Don't change these!\n",
      "RAW_FILE_IPHONE = '{}/test_appannie__iphone.json.gz'.format(RAW_FILE_DIR)\n",
      "RAW_FILE_IPAD = '{}/test_appannie__ipad.json.gz'.format(RAW_FILE_DIR)\n",
      "RAW_FILE_ANDROID = '{}/test_appannie__google.json.gz'.format(RAW_FILE_DIR)\n",
      "OUT_IPHONE = OUT_DIR+'/appannie__iphone__rankings__'+DUMP_DATE+'.csv.gz'\n",
      "OUT_IPAD = OUT_DIR+'/appannie__ipad__rankings__'+DUMP_DATE+'.csv.gz'\n",
      "OUT_ANDROID = OUT_DIR+'appannie__android__rankings__'+DUMP_DATE+'csv.gz'"
     ],
     "language": "python",
     "metadata": {},
     "outputs": [],
     "prompt_number": 3
    },
    {
     "cell_type": "code",
     "collapsed": false,
     "input": [
      "def iter_json_gzip(filename):\n",
      "    with gzip.open(filename,'rt') as file_iter:\n",
      "        c = 0\n",
      "        for line in file_iter:\n",
      "            c +=1\n",
      "            if c > LINE_LIMIT:\n",
      "                break\n",
      "            yield ujson.loads(line)"
     ],
     "language": "python",
     "metadata": {},
     "outputs": [],
     "prompt_number": 4
    },
    {
     "cell_type": "markdown",
     "metadata": {},
     "source": [
      "# RANKPARSER"
     ]
    },
    {
     "cell_type": "code",
     "collapsed": false,
     "input": [
      "def RANKPARSER(file_in,out_filename,compress=1):\n",
      "    headers = ['app_id', 'category', 'country', 'day', 'month', 'rank', 'year']\n",
      "    with gzip.open(out_filename,'wt',compress) as out_file:\n",
      "        out_file.write(\",\".join(headers)+\"\\n\")\n",
      "        for json in iter_json_gzip(file_in):\n",
      "            d = datetime.datetime.strptime(app['date'], '%Y-%m-%d')\n",
      "            tree = html.fromstring(app['html'])\n",
      "            category = tree.xpath(\"//div[@data-name='category']//a[@class='current']\").text_content()\n",
      "            app_ids = tree.xpath(\"//span[@style='display:none']\")\n",
      "            i = 0\n",
      "            for app in app_ids:\n",
      "                app_info = [app.text_content(), category, 'United States', d.day, d.month, ((i/3)+1), d.year]\n",
      "                out_file.write(\",\".join(app_info)+'\\n')\n",
      "                i += 1"
     ],
     "language": "python",
     "metadata": {},
     "outputs": [],
     "prompt_number": 5
    },
    {
     "cell_type": "markdown",
     "metadata": {},
     "source": [
      "#Run android, ipad, and iphone"
     ]
    },
    {
     "cell_type": "code",
     "collapsed": false,
     "input": [
      "def run_parser():\n",
      "    RANKPARSER(RAW_FILE_IPHONE, OUT_IPHONE)\n",
      "    RANKPARSER(RAW_FILE_IPAD, OUT_IPAD)\n",
      "    RANKPARSER(RAW_FILE_ANDROID, OUT_ANDROID)"
     ],
     "language": "python",
     "metadata": {},
     "outputs": []
    }
   ],
   "metadata": {}
  }
 ]
}